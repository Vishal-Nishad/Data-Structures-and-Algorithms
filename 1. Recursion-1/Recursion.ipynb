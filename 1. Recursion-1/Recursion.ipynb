{
 "cells": [
  {
   "cell_type": "code",
   "execution_count": 2,
   "id": "9791ba57-3635-46b3-b7f3-677de6e8c8d1",
   "metadata": {},
   "outputs": [
    {
     "name": "stdin",
     "output_type": "stream",
     "text": [
      "enter number: 20\n"
     ]
    },
    {
     "name": "stdout",
     "output_type": "stream",
     "text": [
      "210\n"
     ]
    }
   ],
   "source": [
    "def sumOfNaturalNum():\n",
    "    num=int(input('enter number:'))\n",
    "    sum=0\n",
    "    for i in range(1,num+1):\n",
    "        sum+=i\n",
    "    return sum\n",
    "print(sumOfNaturalNum())"
   ]
  },
  {
   "cell_type": "code",
   "execution_count": null,
   "id": "eca0ec40-3c42-4f7f-a309-ea9e4e6f4d2c",
   "metadata": {},
   "outputs": [],
   "source": []
  }
 ],
 "metadata": {
  "kernelspec": {
   "display_name": "Python 3 (ipykernel)",
   "language": "python",
   "name": "python3"
  },
  "language_info": {
   "codemirror_mode": {
    "name": "ipython",
    "version": 3
   },
   "file_extension": ".py",
   "mimetype": "text/x-python",
   "name": "python",
   "nbconvert_exporter": "python",
   "pygments_lexer": "ipython3",
   "version": "3.11.7"
  }
 },
 "nbformat": 4,
 "nbformat_minor": 5
}
