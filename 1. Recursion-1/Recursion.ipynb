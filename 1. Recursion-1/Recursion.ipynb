{
 "cells": [
  {
   "cell_type": "code",
   "execution_count": 2,
   "id": "9791ba57-3635-46b3-b7f3-677de6e8c8d1",
   "metadata": {},
   "outputs": [
    {
     "name": "stdin",
     "output_type": "stream",
     "text": [
      "enter number: 20\n"
     ]
    },
    {
     "name": "stdout",
     "output_type": "stream",
     "text": [
      "210\n"
     ]
    }
   ],
   "source": [
    "def sumOfNaturalNum():\n",
    "    num=int(input('enter number:'))\n",
    "    sum=0\n",
    "    for i in range(1,num+1):\n",
    "        sum+=i\n",
    "    return sum\n",
    "print(sumOfNaturalNum())"
   ]
  },
  {
   "cell_type": "markdown",
   "id": "6884f1d0-e656-43ad-a0ce-169d67c94384",
   "metadata": {},
   "source": [
    "## Using Recursion"
   ]
  },
  {
   "cell_type": "code",
   "execution_count": 4,
   "id": "662e7db6-2918-45c8-8969-cc035311b2ee",
   "metadata": {},
   "outputs": [
    {
     "name": "stdout",
     "output_type": "stream",
     "text": [
      "15\n"
     ]
    }
   ],
   "source": [
    "def sumOfNatural(n):\n",
    "    if n==1:\n",
    "        return 1\n",
    "    else:\n",
    "        return n+sumOfNatural(n-1)\n",
    "print(sumOfNatural(5))"
   ]
  },
  {
   "cell_type": "code",
   "execution_count": 7,
   "id": "23120f6f-0640-42fa-ab90-21e1904b5d69",
   "metadata": {},
   "outputs": [
    {
     "name": "stdout",
     "output_type": "stream",
     "text": [
      "15\n"
     ]
    }
   ],
   "source": [
    "def sum_n(n):\n",
    "    if n==0:\n",
    "        return 0\n",
    "    smalloutput=sum_n(n-1)\n",
    "    output=smalloutput+n\n",
    "    return output\n",
    "print(sum_n(5))"
   ]
  },
  {
   "cell_type": "code",
   "execution_count": 12,
   "id": "4b837847-2635-4fe4-a7b0-7ac93d85715c",
   "metadata": {},
   "outputs": [
    {
     "name": "stdout",
     "output_type": "stream",
     "text": [
      "81\n",
      "81\n"
     ]
    }
   ],
   "source": [
    "## Using Recursion\n",
    "def xRaisedn(x,n):\n",
    "    if n==0:\n",
    "        return 1                              ## time and space comp.=O(n),, Usage additional space for recursion call stack\n",
    "    else:\n",
    "        return x*xRaisedn(x,n-1)\n",
    "x=3\n",
    "n=4\n",
    "print(xRaisedn(x,n))\n",
    "print(x**n)"
   ]
  },
  {
   "cell_type": "code",
   "execution_count": 13,
   "id": "98052a38-5822-4b6c-a875-1a6586b94b8e",
   "metadata": {},
   "outputs": [
    {
     "name": "stdin",
     "output_type": "stream",
     "text": [
      " 2\n",
      " 4\n"
     ]
    },
    {
     "name": "stdout",
     "output_type": "stream",
     "text": [
      "16\n"
     ]
    }
   ],
   "source": [
    "## Iteration i.e Loop \n",
    "def xTon():\n",
    "    x=int(input())          ## Loop is more faster as compare to recursion in term of iterations , \n",
    "    n=int(input())          ## It is faster in both , time ans space complexity ,  time=O(n) coz loop iterates n no. of times and , Space=O(1) it taking\n",
    "    ans=1                   ## constant memory space for loop ans\n",
    "    for i in range(n):\n",
    "        ans=ans*x\n",
    "    return ans\n",
    "print(xTon())"
   ]
  },
  {
   "cell_type": "code",
   "execution_count": 18,
   "id": "28ff06e4-e616-4bc1-aa8d-85dc0a5e79d9",
   "metadata": {},
   "outputs": [
    {
     "name": "stdout",
     "output_type": "stream",
     "text": [
      "1\n",
      "2\n",
      "3\n",
      "4\n",
      "5\n",
      "None\n",
      "5\n",
      "4\n",
      "3\n",
      "2\n",
      "1\n",
      "None\n"
     ]
    }
   ],
   "source": [
    "## Print sum of N natural numbers\n",
    "def NNatural(n):\n",
    "    if n==0:\n",
    "        return\n",
    "    sumNNatural(n-1)\n",
    "    print(n)\n",
    "print(sumNNatural(5))\n",
    "\n",
    "## Print Numbers in reverse ordere\n",
    "def reverseNnum(n):\n",
    "    if n==0:\n",
    "        return\n",
    "    print(n)\n",
    "    reverseNnum(n-1)\n",
    "    return\n",
    "print(reverseNnum(5))"
   ]
  },
  {
   "cell_type": "markdown",
   "id": "fed280fe-ae7f-4488-a8d2-cf45dc76ac99",
   "metadata": {},
   "source": [
    "## Fibonacci series"
   ]
  },
  {
   "cell_type": "code",
   "execution_count": 23,
   "id": "e9d8694b-df4d-4808-8993-d76069d25b8f",
   "metadata": {},
   "outputs": [
    {
     "name": "stdout",
     "output_type": "stream",
     "text": [
      "55\n"
     ]
    }
   ],
   "source": [
    "## iteration\n",
    "def fib(n):\n",
    "    if n==1 or n==2:\n",
    "        return 1\n",
    "    elif n<=0:\n",
    "        print('Please enter number greater than 0')\n",
    "    else:\n",
    "        a=1\n",
    "        b=1\n",
    "        for i in range(2,n):\n",
    "            c=a+b\n",
    "            a=b\n",
    "            b=c\n",
    "        return c\n",
    "print(fib(10))\n",
    "        "
   ]
  },
  {
   "cell_type": "code",
   "execution_count": 24,
   "id": "2069f6a9-1096-4e5f-a563-0172863bc797",
   "metadata": {},
   "outputs": [
    {
     "name": "stdout",
     "output_type": "stream",
     "text": [
      "55\n"
     ]
    }
   ],
   "source": [
    "## Recursion\n",
    "def recFib(n):\n",
    "    if n==1 or n==2:\n",
    "        return 1\n",
    "    else:\n",
    "        n_1=recFib(n-1)\n",
    "        n_2=recFib(n-2)\n",
    "        output=n_1+n_2\n",
    "        return output\n",
    "print(recFib(10))"
   ]
  },
  {
   "cell_type": "code",
   "execution_count": null,
   "id": "17cdd5ce-60d9-4088-aa81-b405dae180c8",
   "metadata": {},
   "outputs": [],
   "source": []
  }
 ],
 "metadata": {
  "kernelspec": {
   "display_name": "Python 3 (ipykernel)",
   "language": "python",
   "name": "python3"
  },
  "language_info": {
   "codemirror_mode": {
    "name": "ipython",
    "version": 3
   },
   "file_extension": ".py",
   "mimetype": "text/x-python",
   "name": "python",
   "nbconvert_exporter": "python",
   "pygments_lexer": "ipython3",
   "version": "3.11.7"
  }
 },
 "nbformat": 4,
 "nbformat_minor": 5
}
