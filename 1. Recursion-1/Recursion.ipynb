{
 "cells": [
  {
   "cell_type": "code",
   "execution_count": 2,
   "id": "9791ba57-3635-46b3-b7f3-677de6e8c8d1",
   "metadata": {},
   "outputs": [
    {
     "name": "stdin",
     "output_type": "stream",
     "text": [
      "enter number: 20\n"
     ]
    },
    {
     "name": "stdout",
     "output_type": "stream",
     "text": [
      "210\n"
     ]
    }
   ],
   "source": [
    "def sumOfNaturalNum():\n",
    "    num=int(input('enter number:'))\n",
    "    sum=0\n",
    "    for i in range(1,num+1):\n",
    "        sum+=i\n",
    "    return sum\n",
    "print(sumOfNaturalNum())"
   ]
  },
  {
   "cell_type": "markdown",
   "id": "6884f1d0-e656-43ad-a0ce-169d67c94384",
   "metadata": {},
   "source": [
    "## Using Recursion"
   ]
  },
  {
   "cell_type": "code",
   "execution_count": 4,
   "id": "662e7db6-2918-45c8-8969-cc035311b2ee",
   "metadata": {},
   "outputs": [
    {
     "name": "stdout",
     "output_type": "stream",
     "text": [
      "15\n"
     ]
    }
   ],
   "source": [
    "def sumOfNatural(n):\n",
    "    if n==1:\n",
    "        return 1\n",
    "    else:\n",
    "        return n+sumOfNatural(n-1)\n",
    "print(sumOfNatural(5))"
   ]
  },
  {
   "cell_type": "code",
   "execution_count": 7,
   "id": "23120f6f-0640-42fa-ab90-21e1904b5d69",
   "metadata": {},
   "outputs": [
    {
     "name": "stdout",
     "output_type": "stream",
     "text": [
      "15\n"
     ]
    }
   ],
   "source": [
    "def sum_n(n):\n",
    "    if n==0:\n",
    "        return 0\n",
    "    smalloutput=sum_n(n-1)\n",
    "    output=smalloutput+n\n",
    "    return output\n",
    "print(sum_n(5))"
   ]
  },
  {
   "cell_type": "code",
   "execution_count": null,
   "id": "4b837847-2635-4fe4-a7b0-7ac93d85715c",
   "metadata": {},
   "outputs": [],
   "source": []
  }
 ],
 "metadata": {
  "kernelspec": {
   "display_name": "Python 3 (ipykernel)",
   "language": "python",
   "name": "python3"
  },
  "language_info": {
   "codemirror_mode": {
    "name": "ipython",
    "version": 3
   },
   "file_extension": ".py",
   "mimetype": "text/x-python",
   "name": "python",
   "nbconvert_exporter": "python",
   "pygments_lexer": "ipython3",
   "version": "3.11.7"
  }
 },
 "nbformat": 4,
 "nbformat_minor": 5
}
