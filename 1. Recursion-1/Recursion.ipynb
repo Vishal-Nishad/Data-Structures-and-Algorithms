{
 "cells": [
  {
   "cell_type": "code",
   "execution_count": 2,
   "id": "9791ba57-3635-46b3-b7f3-677de6e8c8d1",
   "metadata": {},
   "outputs": [
    {
     "name": "stdin",
     "output_type": "stream",
     "text": [
      "enter number: 20\n"
     ]
    },
    {
     "name": "stdout",
     "output_type": "stream",
     "text": [
      "210\n"
     ]
    }
   ],
   "source": [
    "def sumOfNaturalNum():\n",
    "    num=int(input('enter number:'))\n",
    "    sum=0\n",
    "    for i in range(1,num+1):\n",
    "        sum+=i\n",
    "    return sum\n",
    "print(sumOfNaturalNum())"
   ]
  },
  {
   "cell_type": "markdown",
   "id": "6884f1d0-e656-43ad-a0ce-169d67c94384",
   "metadata": {},
   "source": [
    "## Using Recursion"
   ]
  },
  {
   "cell_type": "code",
   "execution_count": 4,
   "id": "662e7db6-2918-45c8-8969-cc035311b2ee",
   "metadata": {},
   "outputs": [
    {
     "name": "stdout",
     "output_type": "stream",
     "text": [
      "15\n"
     ]
    }
   ],
   "source": [
    "def sumOfNatural(n):\n",
    "    if n==1:\n",
    "        return 1\n",
    "    else:\n",
    "        return n+sumOfNatural(n-1)\n",
    "print(sumOfNatural(5))"
   ]
  },
  {
   "cell_type": "code",
   "execution_count": 7,
   "id": "23120f6f-0640-42fa-ab90-21e1904b5d69",
   "metadata": {},
   "outputs": [
    {
     "name": "stdout",
     "output_type": "stream",
     "text": [
      "15\n"
     ]
    }
   ],
   "source": [
    "def sum_n(n):\n",
    "    if n==0:\n",
    "        return 0\n",
    "    smalloutput=sum_n(n-1)\n",
    "    output=smalloutput+n\n",
    "    return output\n",
    "print(sum_n(5))"
   ]
  },
  {
   "cell_type": "code",
   "execution_count": 12,
   "id": "4b837847-2635-4fe4-a7b0-7ac93d85715c",
   "metadata": {},
   "outputs": [
    {
     "name": "stdout",
     "output_type": "stream",
     "text": [
      "81\n",
      "81\n"
     ]
    }
   ],
   "source": [
    "## Using Recursion\n",
    "def xRaisedn(x,n):\n",
    "    if n==0:\n",
    "        return 1                              ## time and space comp.=O(n),, Usage additional space for recursion call stack\n",
    "    else:\n",
    "        return x*xRaisedn(x,n-1)\n",
    "x=3\n",
    "n=4\n",
    "print(xRaisedn(x,n))\n",
    "print(x**n)"
   ]
  },
  {
   "cell_type": "code",
   "execution_count": 13,
   "id": "98052a38-5822-4b6c-a875-1a6586b94b8e",
   "metadata": {},
   "outputs": [
    {
     "name": "stdin",
     "output_type": "stream",
     "text": [
      " 2\n",
      " 4\n"
     ]
    },
    {
     "name": "stdout",
     "output_type": "stream",
     "text": [
      "16\n"
     ]
    }
   ],
   "source": [
    "## Iteration i.e Loop \n",
    "def xTon():\n",
    "    x=int(input())          ## Loop is more faster as compare to recursion in term of iterations , \n",
    "    n=int(input())          ## It is faster in both , time ans space complexity ,  time=O(n) coz loop iterates n no. of times and , Space=O(1) it taking\n",
    "    ans=1                   ## constant memory space for loop ans\n",
    "    for i in range(n):\n",
    "        ans=ans*x\n",
    "    return ans\n",
    "print(xTon())"
   ]
  },
  {
   "cell_type": "code",
   "execution_count": 18,
   "id": "28ff06e4-e616-4bc1-aa8d-85dc0a5e79d9",
   "metadata": {},
   "outputs": [
    {
     "name": "stdout",
     "output_type": "stream",
     "text": [
      "1\n",
      "2\n",
      "3\n",
      "4\n",
      "5\n",
      "None\n",
      "5\n",
      "4\n",
      "3\n",
      "2\n",
      "1\n",
      "None\n"
     ]
    }
   ],
   "source": [
    "## Print sum of N natural numbers\n",
    "def NNatural(n):\n",
    "    if n==0:\n",
    "        return\n",
    "    sumNNatural(n-1)\n",
    "    print(n)\n",
    "print(sumNNatural(5))\n",
    "\n",
    "## Print Numbers in reverse ordere\n",
    "def reverseNnum(n):\n",
    "    if n==0:\n",
    "        return\n",
    "    print(n)\n",
    "    reverseNnum(n-1)\n",
    "    return\n",
    "print(reverseNnum(5))"
   ]
  },
  {
   "cell_type": "markdown",
   "id": "fed280fe-ae7f-4488-a8d2-cf45dc76ac99",
   "metadata": {},
   "source": [
    "## Fibonacci series"
   ]
  },
  {
   "cell_type": "code",
   "execution_count": 23,
   "id": "e9d8694b-df4d-4808-8993-d76069d25b8f",
   "metadata": {},
   "outputs": [
    {
     "name": "stdout",
     "output_type": "stream",
     "text": [
      "55\n"
     ]
    }
   ],
   "source": [
    "## iteration\n",
    "def fib(n):\n",
    "    if n==1 or n==2:\n",
    "        return 1\n",
    "    elif n<=0:\n",
    "        print('Please enter number greater than 0')\n",
    "    else:\n",
    "        a=1\n",
    "        b=1\n",
    "        for i in range(2,n):\n",
    "            c=a+b\n",
    "            a=b\n",
    "            b=c\n",
    "        return c\n",
    "print(fib(10))\n",
    "        "
   ]
  },
  {
   "cell_type": "code",
   "execution_count": 42,
   "id": "2069f6a9-1096-4e5f-a563-0172863bc797",
   "metadata": {},
   "outputs": [
    {
     "name": "stdout",
     "output_type": "stream",
     "text": [
      "1\n",
      "1\n",
      "2\n",
      "1\n",
      "1\n",
      "1\n",
      "3\n",
      "2\n",
      "5\n"
     ]
    }
   ],
   "source": [
    "## Recursion\n",
    "def recFib(n):\n",
    "    if n==1 or n==2:\n",
    "        return 1\n",
    "    else:\n",
    "        n_1=recFib(n-1)\n",
    "        n_2=recFib(n-2)\n",
    "        print(n_1)\n",
    "        print(n_2)\n",
    "        output=n_1+n_2\n",
    "        return output\n",
    "print(recFib(5))"
   ]
  },
  {
   "cell_type": "code",
   "execution_count": null,
   "id": "aa3d3980-7450-4deb-adc2-36399d9fe014",
   "metadata": {},
   "outputs": [],
   "source": [
    "The first two 1s are printed when recFib(3) calls recFib(2) and recFib(1) for the first time.\n",
    "The 2 is printed when recFib(4) gets the result 2 from recFib(3).\n",
    "The 1 is printed when recFib(4) gets the result 1 from recFib(2).\n",
    "The next two 1s are printed when recFib(3) is called again from the initial recFib(5).\n",
    "The 3 is printed when recFib(5) gets the result 3 from recFib(4).\n",
    "The 2 is printed when recFib(5) gets the result 2 from recFib(3).\n"
   ]
  },
  {
   "cell_type": "markdown",
   "id": "34c25ee5-9c03-4836-a0dc-d81a5ab7f385",
   "metadata": {},
   "source": [
    "## Checking a list isSorted or not ,with the help of recursion"
   ]
  },
  {
   "cell_type": "code",
   "execution_count": 36,
   "id": "d9fb679b-5f86-493d-8947-9e8796319db8",
   "metadata": {},
   "outputs": [
    {
     "name": "stdout",
     "output_type": "stream",
     "text": [
      "False\n",
      "False\n"
     ]
    }
   ],
   "source": [
    "def isSorted(l):\n",
    "    s=len(l)\n",
    "    if s==0 or s==1:\n",
    "        return True\n",
    "    if l[0]>l[1]:\n",
    "        return False\n",
    "    isSmallerList=isSorted(l[1:])\n",
    "    return isSmallerList \n",
    "l=[1,2,4,3,4,5]\n",
    "print(isSorted(l))\n",
    "\n",
    "def isSorted(l):\n",
    "    s=len(l)\n",
    "    if s==0 or s==1:\n",
    "        return True\n",
    "    if l[0]>l[1]:\n",
    "        return False\n",
    "    #isSmallerList=isSorted(l[1:])\n",
    "    return isSorted(l[1:])\n",
    "print(isSorted([5,1,2,34]))"
   ]
  },
  {
   "cell_type": "code",
   "execution_count": 30,
   "id": "6c806769-9149-45a5-ae70-f3176435dac9",
   "metadata": {},
   "outputs": [
    {
     "name": "stdout",
     "output_type": "stream",
     "text": [
      "7053291\n"
     ]
    },
    {
     "name": "stdin",
     "output_type": "stream",
     "text": [
      "Enter total integer N: 8\n",
      " 1 2 3 4 5 6 7 8\n"
     ]
    },
    {
     "name": "stdout",
     "output_type": "stream",
     "text": [
      "36\n"
     ]
    }
   ],
   "source": [
    "## Finding sum of Array using recursion\n",
    "def sumArr(arr):\n",
    "    s=len(arr)\n",
    "    if s==1 or s==0:\n",
    "        return arr[0]\n",
    "    else:\n",
    "        return arr[0]+sumArr(arr[1:])\n",
    "print(sumArr([1,2,3,4,5,1,0,3,3,3,3,35,5,2,34,2,3434,454,3422,234,34,34,343,2343,42343,423423,4234324,2342345,452]))\n",
    "#print(sumArr([]))\n",
    "n=int(input(\"Enter total integer N:\"))\n",
    "num=list(map(int,input().split()))\n",
    "print(sumArr(num))"
   ]
  },
  {
   "cell_type": "code",
   "execution_count": 40,
   "id": "97a32985-5d59-404b-9c82-8e20cdb1ed18",
   "metadata": {},
   "outputs": [
    {
     "name": "stdout",
     "output_type": "stream",
     "text": [
      "True\n"
     ]
    }
   ],
   "source": [
    "def searchingElement(arr,e):\n",
    "    if len(arr)==0:\n",
    "        return False\n",
    "    if arr[0]==e:\n",
    "        return True\n",
    "    return searchingElement(arr[1:],e)\n",
    "\n",
    "arr=[1,2,3,4,5]\n",
    "print(searchingElement(arr,1))"
   ]
  },
  {
   "cell_type": "code",
   "execution_count": null,
   "id": "6f7791bb-7998-458a-966c-15de9e6e1db9",
   "metadata": {},
   "outputs": [],
   "source": []
  }
 ],
 "metadata": {
  "kernelspec": {
   "display_name": "Python 3 (ipykernel)",
   "language": "python",
   "name": "python3"
  },
  "language_info": {
   "codemirror_mode": {
    "name": "ipython",
    "version": 3
   },
   "file_extension": ".py",
   "mimetype": "text/x-python",
   "name": "python",
   "nbconvert_exporter": "python",
   "pygments_lexer": "ipython3",
   "version": "3.11.7"
  }
 },
 "nbformat": 4,
 "nbformat_minor": 5
}
