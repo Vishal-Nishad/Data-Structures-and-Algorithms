{
 "cells": [
  {
   "cell_type": "markdown",
   "id": "9b42450e-9ff2-457d-898e-fa3088d7297e",
   "metadata": {},
   "source": [
    "## Binary Search"
   ]
  },
  {
   "cell_type": "code",
   "execution_count": 7,
   "id": "b5c48daa-f4c0-425b-b611-8506fc945383",
   "metadata": {},
   "outputs": [
    {
     "name": "stdout",
     "output_type": "stream",
     "text": [
      "2\n",
      "5\n",
      "None\n"
     ]
    }
   ],
   "source": [
    "def binary_Search(myList,item):\n",
    "    start=0\n",
    "    end=len(myList)-1\n",
    "    while start<=end:\n",
    "        mid=(start+end)//2\n",
    "        guess=myList[mid]\n",
    "        if guess==item:\n",
    "            return mid\n",
    "        if guess>item:\n",
    "            end=mid-1\n",
    "        else:\n",
    "            start=mid+1\n",
    "    return None\n",
    "    \n",
    "myList=[2,5,6,7,8,9]\n",
    "item=6\n",
    "print(binary_Search([2,5,6,7,8,9],item))\n",
    "print(binary_Search(myList,9))\n",
    "print(binary_Search(myList,11))"
   ]
  },
  {
   "cell_type": "code",
   "execution_count": null,
   "id": "75e38e81-cc0b-4900-9e8a-9974d0875432",
   "metadata": {},
   "outputs": [],
   "source": []
  }
 ],
 "metadata": {
  "kernelspec": {
   "display_name": "Python 3 (ipykernel)",
   "language": "python",
   "name": "python3"
  },
  "language_info": {
   "codemirror_mode": {
    "name": "ipython",
    "version": 3
   },
   "file_extension": ".py",
   "mimetype": "text/x-python",
   "name": "python",
   "nbconvert_exporter": "python",
   "pygments_lexer": "ipython3",
   "version": "3.11.7"
  }
 },
 "nbformat": 4,
 "nbformat_minor": 5
}
