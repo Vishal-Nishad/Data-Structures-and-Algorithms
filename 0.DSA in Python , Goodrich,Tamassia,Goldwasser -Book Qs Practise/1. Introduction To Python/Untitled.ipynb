{
 "cells": [
  {
   "cell_type": "markdown",
   "id": "d8de3edf-522c-4d15-a31e-e846ce2938d7",
   "metadata": {},
   "source": [
    "## Illustrative Programs Qs"
   ]
  },
  {
   "cell_type": "code",
   "execution_count": 1,
   "id": "459ab9fc-6626-4301-bbdc-7b0eb78dc572",
   "metadata": {},
   "outputs": [
    {
     "name": "stdin",
     "output_type": "stream",
     "text": [
      "Enter your name: nishad\n",
      "Enter your address: Gurugram,Haryana,India\n"
     ]
    },
    {
     "name": "stdout",
     "output_type": "stream",
     "text": [
      "Your name is:  nishad \n",
      "Your address is:  Gurugram,Haryana,India\n"
     ]
    }
   ],
   "source": [
    "## 1.\n",
    "name=input(\"Enter your name:\")\n",
    "Add=input('Enter your address:')\n",
    "print('Your name is: ',name,'\\nYour address is: ',Add)"
   ]
  },
  {
   "cell_type": "code",
   "execution_count": 5,
   "id": "f3ac57a1-4342-4643-a892-cb83b574b525",
   "metadata": {},
   "outputs": [
    {
     "name": "stdin",
     "output_type": "stream",
     "text": [
      "Enter the circle radius: 5\n"
     ]
    },
    {
     "name": "stdout",
     "output_type": "stream",
     "text": [
      "78.53981633974483\n"
     ]
    },
    {
     "name": "stdin",
     "output_type": "stream",
     "text": [
      "Enter the length and breadth of rect separated by space: 5 6 \n"
     ]
    },
    {
     "name": "stdout",
     "output_type": "stream",
     "text": [
      "30.0\n"
     ]
    }
   ],
   "source": [
    "## 2.\n",
    "import math\n",
    "rad=float(input('Enter the circle radius:'))\n",
    "circleArea=math.pi*rad**2\n",
    "print(circleArea)\n",
    "\n",
    "rect=input('Enter the length and breadth of rect separated by space:')\n",
    "length=float(rect.split()[0])\n",
    "breadth=float(rect.split()[1])\n",
    "rectArea=length*breadth\n",
    "print(rectArea)"
   ]
  },
  {
   "cell_type": "code",
   "execution_count": 8,
   "id": "a023203c-c645-42be-b29d-05427b78267b",
   "metadata": {},
   "outputs": [
    {
     "name": "stdin",
     "output_type": "stream",
     "text": [
      "Enter the number: 5\n"
     ]
    },
    {
     "name": "stdout",
     "output_type": "stream",
     "text": [
      "factorial for number  5 is 120\n"
     ]
    }
   ],
   "source": [
    "## 3.\n",
    "def fact(n):\n",
    "    fact=1\n",
    "    for i in range(1,n+1):\n",
    "        fact*=i\n",
    "    return fact\n",
    "\n",
    "n=int(input(\"Enter the number:\"))\n",
    "print(\"factorial for number \",n,'is',fact(n))"
   ]
  },
  {
   "cell_type": "code",
   "execution_count": 34,
   "id": "003dcf9c-6034-42bb-a3ad-4ccefbe92143",
   "metadata": {},
   "outputs": [
    {
     "name": "stdin",
     "output_type": "stream",
     "text": [
      "Enter number: 13\n"
     ]
    },
    {
     "name": "stdout",
     "output_type": "stream",
     "text": [
      "True\n",
      "True\n"
     ]
    }
   ],
   "source": [
    "## 4.\n",
    "def isPrime(n):\n",
    "    ans=True\n",
    "    for i in range(2,(n//2)+1):\n",
    "        if n%i==0:\n",
    "            ans=False\n",
    "            break\n",
    "    return ans\n",
    "n=int(input('Enter number:'))\n",
    "print(isPrime(n))\n",
    "\n",
    "def isPrime1(n):\n",
    "    ans=True\n",
    "    x=int(math.sqrt(n))\n",
    "    for i in range(x,1,-1):\n",
    "        if n%i==0:\n",
    "            ans=False\n",
    "            break\n",
    "    return ans\n",
    "print(isPrime1(n))"
   ]
  },
  {
   "cell_type": "code",
   "execution_count": null,
   "id": "2071e0b5-6bcf-4fbf-af93-c987a1a90f81",
   "metadata": {},
   "outputs": [],
   "source": [
    "## 5.GCD of TWO numbers"
   ]
  },
  {
   "cell_type": "code",
   "execution_count": 38,
   "id": "732ab17e-40bf-41df-9e06-87932e5e164d",
   "metadata": {},
   "outputs": [
    {
     "name": "stdin",
     "output_type": "stream",
     "text": [
      "Enter number:  20\n"
     ]
    },
    {
     "name": "stdout",
     "output_type": "stream",
     "text": [
      "10.5\n"
     ]
    }
   ],
   "source": [
    "## 6.\n",
    "def avr_n():\n",
    "    n=int(input('Enter number: '))\n",
    "    sum=0\n",
    "    for i in range(1,n+1):\n",
    "        sum+=i\n",
    "    average=sum/n\n",
    "    return average\n",
    "\n",
    "print(avr_n())"
   ]
  },
  {
   "cell_type": "code",
   "execution_count": 52,
   "id": "7311680d-623d-4846-992c-cb4df35a4ecc",
   "metadata": {},
   "outputs": [
    {
     "name": "stdout",
     "output_type": "stream",
     "text": [
      "(2, 'ia')\n"
     ]
    }
   ],
   "source": [
    "## 7.\n",
    "def vowelCount(string):\n",
    "    count=0\n",
    "    vowel=''\n",
    "    for i in string:\n",
    "        if i=='a' or i== 'A' or i== 'e' or i== 'E' or i== 'o' or i=='O' or i=='i' or i== 'I' or i=='u' or i== 'U':\n",
    "            count+=1\n",
    "            vowel+=i\n",
    "    return count,vowel\n",
    "\n",
    "print(vowelCount('vishal'))\n"
   ]
  },
  {
   "cell_type": "code",
   "execution_count": 65,
   "id": "a6b24171-360d-44a0-83f8-7524393de1a1",
   "metadata": {},
   "outputs": [
    {
     "name": "stdout",
     "output_type": "stream",
     "text": [
      "number of words in it: 6\n"
     ]
    }
   ],
   "source": [
    "## 9.\n",
    "def n_word(str):\n",
    "    count=0\n",
    "    for i in str:\n",
    "        count+=1\n",
    "    return count\n",
    "\n",
    "print('number of words in it:', n_word('vishal'))"
   ]
  },
  {
   "cell_type": "code",
   "execution_count": 72,
   "id": "52233b1c-3f7f-42fc-8d41-a725abee1940",
   "metadata": {},
   "outputs": [
    {
     "name": "stdout",
     "output_type": "stream",
     "text": [
      "number could not be converted into integer v\n",
      "number could not be converted into integer n\n",
      "(18, [4, 5, 4, 5])\n"
     ]
    }
   ],
   "source": [
    "## 10.\n",
    "def sum_int(list):\n",
    "    sum=0\n",
    "    elements=[]\n",
    "    for i in list:\n",
    "        try:\n",
    "            intnum=int(i)\n",
    "            sum+=intnum\n",
    "            elements.append(intnum)\n",
    "        except ValueError:\n",
    "            print('number could not be converted into integer',i)\n",
    "    return sum,elements\n",
    "\n",
    "l=[4,5,'v',4.5,'n',5]\n",
    "print(sum_int(l))"
   ]
  },
  {
   "cell_type": "code",
   "execution_count": null,
   "id": "845581ef-41f3-4c49-ada6-e199b8cf4d86",
   "metadata": {},
   "outputs": [],
   "source": []
  },
  {
   "cell_type": "markdown",
   "id": "fd470329-7398-4048-86c7-346a61c4bce6",
   "metadata": {},
   "source": [
    "## Exercise Questions"
   ]
  },
  {
   "cell_type": "code",
   "execution_count": 2,
   "id": "6ac0e1d6-df1e-43d3-bc7a-c5316813e148",
   "metadata": {},
   "outputs": [
    {
     "name": "stdout",
     "output_type": "stream",
     "text": [
      "False\n"
     ]
    }
   ],
   "source": [
    "## 1. ismultiple   , To check if n is the multiple of m\n",
    "def isMultiple(n,m):\n",
    "    return n%m==0\n",
    "\n",
    "print(isMultiple(100,9))\n",
    "            "
   ]
  },
  {
   "cell_type": "code",
   "execution_count": 5,
   "id": "f21cd724-e5ff-4210-a7b9-77eb3130bc7f",
   "metadata": {},
   "outputs": [
    {
     "name": "stdout",
     "output_type": "stream",
     "text": [
      "False\n",
      "4 is Even number.\n",
      "6 is Even number.\n",
      "3 is Odd number.\n",
      "4 is Even number.\n",
      "5 is Odd number.\n",
      "3443 is Odd number.\n",
      "645 is Odd number.\n",
      "6 is Even number.\n",
      "2 is Even number.\n"
     ]
    }
   ],
   "source": [
    "## 2. Bitwise AND \n",
    "def isEven(n):\n",
    "    return (n&1)==0\n",
    "\n",
    "print(isEven(5))\n",
    "numbers=[4,6,3,4,5,3443,645,6,2]\n",
    "\n",
    "for i in numbers:\n",
    "    if isEven(i):\n",
    "        print(f'{i} is Even number.')\n",
    "    else:\n",
    "        print(f'{i} is Odd number.')"
   ]
  },
  {
   "cell_type": "code",
   "execution_count": 17,
   "id": "696b26fb-028c-4f49-aa0d-79e014b6a460",
   "metadata": {},
   "outputs": [
    {
     "name": "stdin",
     "output_type": "stream",
     "text": [
      " 4 5 32 4 2 3 1\n"
     ]
    },
    {
     "name": "stdout",
     "output_type": "stream",
     "text": [
      "(4, 5, 32, 4, 2, 3, 1)\n",
      "(32, 1)\n"
     ]
    }
   ],
   "source": [
    "## 3. \n",
    "nums=tuple(map(int,input().split()))\n",
    "print(nums)\n",
    "def min_max(numbers):\n",
    "    min_ind=0\n",
    "    max_ind=0\n",
    "    for i in range(1,len(nums)):   ## this is for finding min\n",
    "        if nums[min_ind]>nums[i]:\n",
    "            min_ind=i\n",
    "        if nums[max_ind]<nums[i]:\n",
    "            max_ind=i\n",
    "    max_min=(nums[max_ind],nums[min_ind])\n",
    "    return max_min\n",
    "print(min_max(nums))\n"
   ]
  },
  {
   "cell_type": "code",
   "execution_count": 18,
   "id": "df8aba3b-0719-476e-8e0e-c5aa9621d891",
   "metadata": {},
   "outputs": [
    {
     "name": "stdin",
     "output_type": "stream",
     "text": [
      "Enter positive number: 0\n",
      "Enter positive number: a\n"
     ]
    },
    {
     "name": "stdout",
     "output_type": "stream",
     "text": [
      "Please enter a positive number.\n"
     ]
    },
    {
     "name": "stdin",
     "output_type": "stream",
     "text": [
      "Enter positive number: 5\n"
     ]
    },
    {
     "name": "stdout",
     "output_type": "stream",
     "text": [
      "20\n"
     ]
    }
   ],
   "source": [
    "## 4.\n",
    "while True:\n",
    "    try:\n",
    "        num=int(input('Enter positive number:'))\n",
    "        if num>0:\n",
    "            break\n",
    "    except ValueError:\n",
    "        print('Please enter a positive number.')\n",
    "def sum_sq(num):\n",
    "    sum=0\n",
    "    for i in range(2,num+1):\n",
    "        if i%2==0:\n",
    "            sum+=i**2\n",
    "    return sum\n",
    "\n",
    "print(sum_sq(num))"
   ]
  },
  {
   "cell_type": "code",
   "execution_count": 24,
   "id": "d9bf6bff-1996-4810-b87e-ea7cd876ebf2",
   "metadata": {},
   "outputs": [
    {
     "name": "stdin",
     "output_type": "stream",
     "text": [
      " hello\n",
      " -2\n"
     ]
    },
    {
     "name": "stdout",
     "output_type": "stream",
     "text": [
      "postivie index is 3 and negative index is -2 and the char. is l\n"
     ]
    }
   ],
   "source": [
    "## 6.\n",
    "def negToPosInd(str,k):\n",
    "    if -len(str)<=k<0:\n",
    "        j=k+len(str)\n",
    "        print(f\"postivie index is {j} and negative index is {k} and the char. is {str[j]}\")\n",
    "    else:\n",
    "        print('enter a valid index range for k(negative)')\n",
    "str=input()\n",
    "k=int(input())\n",
    "negToPosInd(str,k)"
   ]
  },
  {
   "cell_type": "code",
   "execution_count": 28,
   "id": "94f51165-edf4-44de-ae1e-9e09ea1f3ea1",
   "metadata": {},
   "outputs": [
    {
     "name": "stdout",
     "output_type": "stream",
     "text": [
      "[8, 7, 6, 5, 4, 3, 2, 1, 0, -1, -2, -3, -4, -5, -6, -7]\n",
      "[8, 7, 6, 5, 4, 3, 2, 1, 0, -1, -2, -3, -4, -5, -6, -7, -8]\n",
      "[8, 6, 4, 2, 0, -2, -4, -6, -8]\n"
     ]
    }
   ],
   "source": [
    "## 7.\n",
    "print([i for i in range(8,-8,-1)])\n",
    "print([i for i in range(8,-9,-1)])\n",
    "print([i for i in range(8,-9,-2)])"
   ]
  },
  {
   "cell_type": "code",
   "execution_count": 31,
   "id": "dffaa0ba-0f33-4e8b-8f7f-17c53a8bce74",
   "metadata": {},
   "outputs": [
    {
     "name": "stdout",
     "output_type": "stream",
     "text": [
      "[1, 2, 4, 8, 16, 32, 64, 128, 256]\n"
     ]
    }
   ],
   "source": [
    "## 8.\n",
    "print([2**i for i in range(9)])"
   ]
  },
  {
   "cell_type": "code",
   "execution_count": 35,
   "id": "e3c068d3-beae-47cc-874b-e3f53cf6c842",
   "metadata": {},
   "outputs": [
    {
     "name": "stdout",
     "output_type": "stream",
     "text": [
      "64\n",
      "2\n"
     ]
    }
   ],
   "source": [
    "## 9.\n",
    "import random\n",
    "data=[1, 2, 4, 8, 16, 32, 64, 128, 256]\n",
    "print(random.choice(data))                  ## it will choose a random element\n",
    "\n",
    "print(random.randrange(0,len(data[0:5])))    ## it will choose a random index "
   ]
  },
  {
   "cell_type": "markdown",
   "id": "5369afa3-245e-414f-b82c-6ac89b131cf2",
   "metadata": {},
   "source": [
    "## Creativity"
   ]
  },
  {
   "cell_type": "code",
   "execution_count": 45,
   "id": "36129cc5-0308-4cb6-b227-e97638ac1c63",
   "metadata": {},
   "outputs": [
    {
     "name": "stdin",
     "output_type": "stream",
     "text": [
      " 3 7 9 \n"
     ]
    },
    {
     "data": {
      "text/plain": [
       "False"
      ]
     },
     "execution_count": 45,
     "metadata": {},
     "output_type": "execute_result"
    }
   ],
   "source": [
    "## 1.11\n",
    "def consNum_prod_isEven():\n",
    "    num=list(map(int,input().split()))\n",
    "    for i in range(len(num)-1):\n",
    "        if (num[i]*num[i+1])%2==0:\n",
    "            return True\n",
    "    return False\n",
    "\n",
    "consNum_prod_isEven()"
   ]
  },
  {
   "cell_type": "code",
   "execution_count": 40,
   "id": "c76ae451-6ea4-4282-ba2f-36a3b3a9ade0",
   "metadata": {},
   "outputs": [
    {
     "name": "stdin",
     "output_type": "stream",
     "text": [
      "enter numbers 5 4 3 2 2 5 1 9 0 55\n"
     ]
    },
    {
     "name": "stdout",
     "output_type": "stream",
     "text": [
      "total distinct numbers in the list is:  6\n",
      "None\n"
     ]
    }
   ],
   "source": [
    "## 1.12\n",
    "def distinct_Count():\n",
    "    num=list(map(int,input(\"enter numbers\").split()))\n",
    "    count=0\n",
    "    for i in range(len(num)):\n",
    "        rep=0\n",
    "        for j in range(len(num)):\n",
    "            if num[i]==num[j]:\n",
    "                rep+=1\n",
    "        if rep<=1:\n",
    "            count+=1\n",
    "\n",
    "    return print('total distinct numbers in the list is: ',count)\n",
    "\n",
    "num=[4,64,3,4,6,5]\n",
    "print(distinct_Count())\n",
    "        "
   ]
  },
  {
   "cell_type": "code",
   "execution_count": 54,
   "id": "3fd026cb-742e-4679-a1cd-f1ebcb07f175",
   "metadata": {},
   "outputs": [
    {
     "name": "stdout",
     "output_type": "stream",
     "text": [
      "['a', 'b', 'c', 'd', 'e', 'f', 'g', 'h', 'i', 'j', 'k', 'l', 'm', 'n', 'o', 'p', 'q', 'r', 's', 't', 'u', 'v', 'w', 'x', 'y', 'z']\n",
      "['A', 'B', 'C', 'D', 'E', 'F', 'G', 'H', 'I', 'J', 'K', 'L', 'M', 'N', 'O', 'P', 'Q', 'R', 'S', 'T', 'U', 'V', 'W', 'X', 'Y', 'Z']\n"
     ]
    }
   ],
   "source": [
    "## 1.14   Generating alphabet\n",
    "print([chr(i) for i in range(97,123)])\n",
    "print([chr(i) for i in range(65,91)])"
   ]
  },
  {
   "cell_type": "code",
   "execution_count": 60,
   "id": "2b4c1c3c-9016-453f-b605-1f82dbc16699",
   "metadata": {},
   "outputs": [
    {
     "data": {
      "text/plain": [
       "2"
      ]
     },
     "execution_count": 60,
     "metadata": {},
     "output_type": "execute_result"
    }
   ],
   "source": [
    "import random\n",
    "a=random.randint(1,6)\n",
    "a"
   ]
  },
  {
   "cell_type": "code",
   "execution_count": 62,
   "id": "6d689b2a-618b-4fa3-8c50-5c4217161177",
   "metadata": {},
   "outputs": [
    {
     "name": "stdin",
     "output_type": "stream",
     "text": [
      " 4 5\n",
      " 6 7\n"
     ]
    },
    {
     "data": {
      "text/plain": [
       "[24, 35]"
      ]
     },
     "execution_count": 62,
     "metadata": {},
     "output_type": "execute_result"
    }
   ],
   "source": [
    "## 1.18\n",
    "def dot_product():\n",
    "    j=list(map(int,input().split()))\n",
    "    k=list(map(int,input().split()))\n",
    "    c=[]\n",
    "    for i in range (len(j)):\n",
    "        c.append(j[i]*k[i])\n",
    "    return c\n",
    "dot_product()"
   ]
  },
  {
   "cell_type": "code",
   "execution_count": 1,
   "id": "cf1c936a-3f6a-434a-97d5-17417959b1bd",
   "metadata": {},
   "outputs": [
    {
     "name": "stdin",
     "output_type": "stream",
     "text": [
      " 4 4 4\n"
     ]
    }
   ],
   "source": [
    "j=list(map(int,input().split()))"
   ]
  },
  {
   "cell_type": "code",
   "execution_count": 8,
   "id": "6b912ee7-7de9-4441-9563-e533d805496f",
   "metadata": {},
   "outputs": [
    {
     "name": "stdin",
     "output_type": "stream",
     "text": [
      "Enter your strings Let's try, Mike.\n"
     ]
    },
    {
     "name": "stdout",
     "output_type": "stream",
     "text": [
      "L\n",
      "e\n",
      "t\n",
      "'\n",
      "s\n",
      " \n",
      "t\n",
      "r\n",
      "y\n",
      ",\n",
      " \n",
      "M\n",
      "i\n",
      "k\n",
      "e\n",
      ".\n",
      "Lets try Mike\n"
     ]
    }
   ],
   "source": [
    "## 1.19 Remove Punctuation\n",
    "def remove_punct(string):\n",
    "    marks=\"''[]{}(),.!/\\;:'\"\n",
    "    result=\"\"\n",
    "    for i in string:\n",
    "        print(i)\n",
    "        if i not in marks:\n",
    "            result+=i\n",
    "    return result\n",
    "st=input(\"Enter your strings\")\n",
    "print(remove_punct(st))"
   ]
  },
  {
   "cell_type": "code",
   "execution_count": 17,
   "id": "a4826158-b17b-403e-a431-323f6f515e22",
   "metadata": {},
   "outputs": [
    {
     "name": "stdin",
     "output_type": "stream",
     "text": [
      "enter number. 0\n",
      "enter number. 1\n",
      "enter number. 2\n"
     ]
    },
    {
     "name": "stdout",
     "output_type": "stream",
     "text": [
      "False\n"
     ]
    }
   ],
   "source": [
    "## 1.20 \n",
    "def three_int_and_for():\n",
    "    a=int(input(\"enter number.\"))\n",
    "    b=int(input(\"enter number.\"))\n",
    "    c=int(input(\"enter number.\"))\n",
    "    if a+b==c or a==b-c or a*b==c:\n",
    "        return True\n",
    "    else:\n",
    "        return False\n",
    "print(three_int_and_for())"
   ]
  },
  {
   "cell_type": "code",
   "execution_count": null,
   "id": "25334ae4-0638-41c2-92d3-679804b6c16f",
   "metadata": {},
   "outputs": [],
   "source": []
  }
 ],
 "metadata": {
  "kernelspec": {
   "display_name": "Python 3 (ipykernel)",
   "language": "python",
   "name": "python3"
  },
  "language_info": {
   "codemirror_mode": {
    "name": "ipython",
    "version": 3
   },
   "file_extension": ".py",
   "mimetype": "text/x-python",
   "name": "python",
   "nbconvert_exporter": "python",
   "pygments_lexer": "ipython3",
   "version": "3.11.7"
  }
 },
 "nbformat": 4,
 "nbformat_minor": 5
}
