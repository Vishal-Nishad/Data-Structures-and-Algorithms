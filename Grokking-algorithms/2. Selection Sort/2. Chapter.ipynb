{
 "cells": [
  {
   "cell_type": "markdown",
   "id": "0af507de-00a1-4ed7-9b8d-ca41db1e3844",
   "metadata": {},
   "source": [
    "## Finding smallest number and its index"
   ]
  },
  {
   "cell_type": "code",
   "execution_count": 6,
   "id": "57c5fd8a-3cff-49b7-9f1b-957b0e6f2b13",
   "metadata": {},
   "outputs": [
    {
     "name": "stdout",
     "output_type": "stream",
     "text": [
      "smallest number is:  1\n",
      "and its index number is:  3\n",
      "None\n"
     ]
    }
   ],
   "source": [
    "def smallestNum(arr):\n",
    "    smallest_num=arr[0]\n",
    "    smallest_index=0\n",
    "    for i in range(1,len(arr)):\n",
    "        if arr[i]<smallest_num:\n",
    "            smallest_num=arr[i]\n",
    "            smallest_index=i\n",
    "    print('smallest number is: ',smallest_num )\n",
    "    print('and its index number is: ',smallest_index)\n",
    "    return \n",
    "\n",
    "arr=[4,6,2,1,7]\n",
    "print(smallestNum(arr))\n",
    "    "
   ]
  },
  {
   "cell_type": "markdown",
   "id": "b0ec2644-23c2-426a-ba83-17d6eba16d4f",
   "metadata": {},
   "source": [
    "## Selection Sort algorithm"
   ]
  },
  {
   "cell_type": "code",
   "execution_count": 10,
   "id": "4b8a02ef-f440-43f3-b1df-e0cfd8333787",
   "metadata": {},
   "outputs": [
    {
     "name": "stdout",
     "output_type": "stream",
     "text": [
      "[0, 1, 2, 3, 4, 7, 9]\n"
     ]
    }
   ],
   "source": [
    "def selectionSort(arr):\n",
    "    for i in range(len(arr)):\n",
    "        min_index=i\n",
    "        for j in range (i+1,len(arr)):\n",
    "            if arr[j]<arr[min_index]:\n",
    "                min_index=j\n",
    "\n",
    "        arr[i],arr[min_index]=arr[min_index],arr[i]\n",
    "    return arr\n",
    "\n",
    "print(selectionSort([7,3,9,4,2,0,1]))"
   ]
  },
  {
   "cell_type": "markdown",
   "id": "4f8df7b9-e489-41f4-b68a-bc241574e7a0",
   "metadata": {},
   "source": [
    "## With separate smallest number funtion"
   ]
  },
  {
   "cell_type": "code",
   "execution_count": 12,
   "id": "9e791973-0ad7-4042-a9ae-162519858f8b",
   "metadata": {},
   "outputs": [
    {
     "name": "stdout",
     "output_type": "stream",
     "text": [
      "[0, 2, 3, 5]\n"
     ]
    }
   ],
   "source": [
    "def smallest(arr,i):\n",
    "    smallest_index=i\n",
    "    for j in range(i+1,len(arr)):\n",
    "        if arr[j]<arr[smallest_index]:\n",
    "            smallest_index=j\n",
    "\n",
    "    return smallest_index\n",
    "\n",
    "def selectionSort(arr):\n",
    "    for i in range(len(arr)):\n",
    "        min_index=smallest(arr,i)\n",
    "\n",
    "        arr[i],arr[min_index]=arr[min_index],arr[i]\n",
    "    return arr\n",
    "\n",
    "print(selectionSort([3,5,2,0]))"
   ]
  },
  {
   "cell_type": "code",
   "execution_count": null,
   "id": "645de610-cc61-47c4-b415-06d984b2821d",
   "metadata": {},
   "outputs": [],
   "source": []
  }
 ],
 "metadata": {
  "kernelspec": {
   "display_name": "Python 3 (ipykernel)",
   "language": "python",
   "name": "python3"
  },
  "language_info": {
   "codemirror_mode": {
    "name": "ipython",
    "version": 3
   },
   "file_extension": ".py",
   "mimetype": "text/x-python",
   "name": "python",
   "nbconvert_exporter": "python",
   "pygments_lexer": "ipython3",
   "version": "3.11.7"
  }
 },
 "nbformat": 4,
 "nbformat_minor": 5
}
